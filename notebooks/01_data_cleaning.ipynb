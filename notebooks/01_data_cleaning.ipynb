{
 "cells": [
  {
   "cell_type": "code",
   "execution_count": null,
   "id": "9c71cea5",
   "metadata": {},
   "outputs": [],
   "source": [
    "import numpy as np \n",
    "import pandas as pd \n",
    "import os\n",
    "import sys\n",
    "from pathlib import Path\n",
    "import scipy as sc\n",
    "import seaborn as sns\n",
    "import matplotlib.pyplot as plt\n",
    "import warnings    \n",
    "warnings.filterwarnings(\"ignore\")\n",
    "from sklearn.preprocessing import StandardScaler,MinMaxScaler\n",
    "from sklearn.model_selection import train_test_split\n",
    "import matplotlib.pyplot as plt\n",
    "from scipy import stats\n",
    "from pylab import rcParams"
   ]
  },
  {
   "cell_type": "code",
   "execution_count": null,
   "id": "585e56b8",
   "metadata": {},
   "outputs": [],
   "source": [
    "# Add src folder to import path\n",
    "sys.path.append(str('../scripts'))\n",
    "\n",
    "from fetch_data import load_dataset_safely\n",
    "\n",
    "# Load inpatient data\n",
    "inpatient_df = load_dataset_safely(\"Train_Inpatientdata-1542865627584.csv\")\n",
    "\n",
    "# Load outpatient data\n",
    "outpatient_df = load_dataset_safely(\"Train_Outpatientdata-1542865627584.csv\")\n",
    "\n",
    "# Load label data\n",
    "outpatient_df = load_dataset_safely(\"Train-1542865627584.csv\")\n",
    "\n",
    "# Load beneficiary data\n",
    "outpatient_df = load_dataset_safely(\"Train_Beneficiarydata-1542865627584.csv\")"
   ]
  }
 ],
 "metadata": {
  "kernelspec": {
   "display_name": "venv",
   "language": "python",
   "name": "python3"
  },
  "language_info": {
   "name": "python",
   "version": "3.13.2"
  }
 },
 "nbformat": 4,
 "nbformat_minor": 5
}
