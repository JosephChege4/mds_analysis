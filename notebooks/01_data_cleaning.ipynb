{
 "cells": [
  {
   "cell_type": "markdown",
   "id": "2c96d2ce",
   "metadata": {},
   "source": [
    "### --- Setup, Config, and Imports ---"
   ]
  },
  {
   "cell_type": "code",
   "execution_count": null,
   "id": "9c71cea5",
   "metadata": {},
   "outputs": [],
   "source": [
    "# --- Setup ---\n",
    "import pandas as pd\n",
    "import os\n",
    "import sys\n",
    "import matplotlib.pyplot as plt\n",
    "import seaborn as sns\n",
    "\n",
    " # To resolve relative imports\n",
    "sys.path.append(os.path.abspath(os.path.join(os.getcwd(), '..')))\n",
    "from scripts import fetch_cms_data, clean_column_names, drop_empty_columns, encode_categoricals, normalize_columns\n",
    "\n",
    "# Global configs\n",
    "pd.set_option('display.max_columns', None)\n",
    "RAW_PATH = \"data/raw\"\n",
    "SAVE_PATH = \"data/clean\"\n",
    "os.makedirs(SAVE_PATH, exist_ok=True)"
   ]
  },
  {
   "cell_type": "markdown",
   "id": "5c8b3819",
   "metadata": {},
   "source": [
    "### --- Load Data ---"
   ]
  },
  {
   "cell_type": "markdown",
   "id": "be4a2f2b",
   "metadata": {},
   "source": [
    "### --- Initial Cleaning ---"
   ]
  },
  {
   "cell_type": "markdown",
   "id": "4b070f3d",
   "metadata": {},
   "source": [
    "### --- Inspecting Dataset ---"
   ]
  }
 ],
 "metadata": {
  "kernelspec": {
   "display_name": "venv",
   "language": "python",
   "name": "python3"
  },
  "language_info": {
   "codemirror_mode": {
    "name": "ipython",
    "version": 3
   },
   "file_extension": ".py",
   "mimetype": "text/x-python",
   "name": "python",
   "nbconvert_exporter": "python",
   "pygments_lexer": "ipython3",
   "version": "3.13.2"
  }
 },
 "nbformat": 4,
 "nbformat_minor": 5
}
